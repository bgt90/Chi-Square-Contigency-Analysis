{
 "cells": [
  {
   "cell_type": "code",
   "execution_count": 1,
   "source": [
    "import pandas as pd\r\n",
    "import seaborn as sns\r\n",
    "import numpy as np\r\n",
    "import matplotlib.pyplot as plt\r\n",
    "from scipy.stats import chi2_contingency"
   ],
   "outputs": [],
   "metadata": {}
  },
  {
   "cell_type": "code",
   "execution_count": 2,
   "source": [
    "df= pd.read_csv('titanic.csv')\r\n",
    "df.head()"
   ],
   "outputs": [
    {
     "output_type": "execute_result",
     "data": {
      "text/html": [
       "<div>\n",
       "<style scoped>\n",
       "    .dataframe tbody tr th:only-of-type {\n",
       "        vertical-align: middle;\n",
       "    }\n",
       "\n",
       "    .dataframe tbody tr th {\n",
       "        vertical-align: top;\n",
       "    }\n",
       "\n",
       "    .dataframe thead th {\n",
       "        text-align: right;\n",
       "    }\n",
       "</style>\n",
       "<table border=\"1\" class=\"dataframe\">\n",
       "  <thead>\n",
       "    <tr style=\"text-align: right;\">\n",
       "      <th></th>\n",
       "      <th>sex</th>\n",
       "      <th>age</th>\n",
       "      <th>parch</th>\n",
       "      <th>fare</th>\n",
       "      <th>class</th>\n",
       "      <th>deck</th>\n",
       "      <th>embark_town</th>\n",
       "      <th>alive</th>\n",
       "      <th>alone</th>\n",
       "    </tr>\n",
       "  </thead>\n",
       "  <tbody>\n",
       "    <tr>\n",
       "      <th>0</th>\n",
       "      <td>male</td>\n",
       "      <td>22.0</td>\n",
       "      <td>0</td>\n",
       "      <td>7.2500</td>\n",
       "      <td>Third</td>\n",
       "      <td>NaN</td>\n",
       "      <td>Southampton</td>\n",
       "      <td>no</td>\n",
       "      <td>False</td>\n",
       "    </tr>\n",
       "    <tr>\n",
       "      <th>1</th>\n",
       "      <td>female</td>\n",
       "      <td>38.0</td>\n",
       "      <td>0</td>\n",
       "      <td>71.2833</td>\n",
       "      <td>First</td>\n",
       "      <td>C</td>\n",
       "      <td>Cherbourg</td>\n",
       "      <td>yes</td>\n",
       "      <td>False</td>\n",
       "    </tr>\n",
       "    <tr>\n",
       "      <th>2</th>\n",
       "      <td>female</td>\n",
       "      <td>26.0</td>\n",
       "      <td>0</td>\n",
       "      <td>7.9250</td>\n",
       "      <td>Third</td>\n",
       "      <td>NaN</td>\n",
       "      <td>Southampton</td>\n",
       "      <td>yes</td>\n",
       "      <td>True</td>\n",
       "    </tr>\n",
       "    <tr>\n",
       "      <th>3</th>\n",
       "      <td>female</td>\n",
       "      <td>35.0</td>\n",
       "      <td>0</td>\n",
       "      <td>53.1000</td>\n",
       "      <td>First</td>\n",
       "      <td>C</td>\n",
       "      <td>Southampton</td>\n",
       "      <td>yes</td>\n",
       "      <td>False</td>\n",
       "    </tr>\n",
       "    <tr>\n",
       "      <th>4</th>\n",
       "      <td>male</td>\n",
       "      <td>35.0</td>\n",
       "      <td>0</td>\n",
       "      <td>8.0500</td>\n",
       "      <td>Third</td>\n",
       "      <td>NaN</td>\n",
       "      <td>Southampton</td>\n",
       "      <td>no</td>\n",
       "      <td>True</td>\n",
       "    </tr>\n",
       "  </tbody>\n",
       "</table>\n",
       "</div>"
      ],
      "text/plain": [
       "      sex   age  parch     fare  class deck  embark_town alive  alone\n",
       "0    male  22.0      0   7.2500  Third  NaN  Southampton    no  False\n",
       "1  female  38.0      0  71.2833  First    C    Cherbourg   yes  False\n",
       "2  female  26.0      0   7.9250  Third  NaN  Southampton   yes   True\n",
       "3  female  35.0      0  53.1000  First    C  Southampton   yes  False\n",
       "4    male  35.0      0   8.0500  Third  NaN  Southampton    no   True"
      ]
     },
     "metadata": {},
     "execution_count": 2
    }
   ],
   "metadata": {}
  },
  {
   "cell_type": "markdown",
   "source": [
    "Misalkan, kalian sedang menganalisis data titanic, kalian ingin membandingkan umur (`age`) dari penumpang berdasarkan kota asal (`embark_town`) mereka."
   ],
   "metadata": {}
  },
  {
   "cell_type": "code",
   "execution_count": 3,
   "source": [
    "sns.boxplot(x='embark_town',y='age', data=df)"
   ],
   "outputs": [
    {
     "output_type": "execute_result",
     "data": {
      "text/plain": [
       "<matplotlib.axes._subplots.AxesSubplot at 0x25a2f6cc8e0>"
      ]
     },
     "metadata": {},
     "execution_count": 3
    },
    {
     "output_type": "display_data",
     "data": {
      "image/png": "[encoded data removed]",
      "text/plain": [
       "<Figure size 432x288 with 1 Axes>"
      ]
     },
     "metadata": {
      "needs_background": "light"
     }
    }
   ],
   "metadata": {}
  },
  {
   "cell_type": "markdown",
   "source": [
    "Karena variabel `age` adalah variabel numerik, maka untuk membandingkan `age` berdasarkan `embark_town`, kalian bisa membandingkan rata-rata atau median dari data kedua kelompok, menggunakan uji, seperti uji anova atau uji Kruskal Wallis, tergantung dari asumsi-asumsi yang berhasil dipenuhi dari data kalian."
   ],
   "metadata": {}
  },
  {
   "cell_type": "code",
   "execution_count": 4,
   "source": [
    "sns.countplot(hue='alive',x='embark_town',data=df)"
   ],
   "outputs": [
    {
     "output_type": "execute_result",
     "data": {
      "text/plain": [
       "<matplotlib.axes._subplots.AxesSubplot at 0x25a2fe50fa0>"
      ]
     },
     "metadata": {},
     "execution_count": 4
    },
    {
     "output_type": "display_data",
     "data": {
      "image/png": "[encoded data removed]",
      "text/plain": [
       "<Figure size 432x288 with 1 Axes>"
      ]
     },
     "metadata": {
      "needs_background": "light"
     }
    }
   ],
   "metadata": {}
  },
  {
   "cell_type": "markdown",
   "source": [
    "Sekarang, bagaimana jika kita ingin menganalisa data jumlah penumpang yang selamat (`alive`)dari masing-masing kota (`embark_town`)? Baik `alive` maupun `embark_town` adalah variabel kategorikal dan tidak memiliki rata-rata maupun median. Ada beberapa uji yang bisa kita lakukan ke data kategorikal, salah satu yang paling popular adalah **uji chi-squared (χ²)**."
   ],
   "metadata": {}
  },
  {
   "cell_type": "markdown",
   "source": [
    "## Uji Chi Squared  \r\n",
    "Uji Chi Squared, atau lebih spesifik, uji chi squared oleh Pearson, adalah uji hipotesis untuk mengevaluasi perbedaan antara nilai hasil observasi dengan nilai yang diekspektasi. Uji ini didasarkan pada [chi-squared distribution](https://en.wikipedia.org/wiki/Chi-squared_distribution), dengan hipotesis null, nilai frekuensi distribusi pada observasi sama dengan distribusi yang diekspek.  \r\n",
    "\r\n",
    "Formula dari nilai statistik chi-square adalah sebagai berikut:\r\n",
    "\r\n",
    "![gambar](https://www.statisticshowto.com/wp-content/uploads/2013/09/chi-square-formula.jpg)\r\n",
    "\r\n",
    "Di mana:\r\n",
    "* O adalah nilai observasi\r\n",
    "* E adalah nilai ekspektasi\r\n",
    "* C adalah nilai [*degree of freedom*](https://www.statisticshowto.com/probability-and-statistics/hypothesis-testing/degrees-of-freedom/)\r\n",
    "\r\n",
    "\r\n",
    "Ada berbagai macam uji dan aplikasi dari uji chi squared. Dua aplikasi paling umum dari uji chi squared adalah [*goodness of fitness test*](https://www.jmp.com/en_ch/statistics-knowledge-portal/chi-square-test/chi-square-goodness-of-fit-test.html), dan [*Chi Square Test of Independence*](https://www.jmp.com/en_us/statistics-knowledge-portal/chi-square-test/chi-square-test-of-independence.html) atau *chi square contingency*.  \r\n",
    "\r\n",
    "Pada artikel ini kita akan membahas *Chi Square Test of Independence*."
   ],
   "metadata": {}
  },
  {
   "cell_type": "markdown",
   "source": [
    "### _Chi Square Test of Independence_  \r\n",
    "\r\n",
    "_Chi Square Test of Independence_ adalah uji hipotesis untuk menentukan apakah dua variabel kategorikal saling berhubungan atau tidak. Uji ini disebut juga sebagai *chi square contingency test* karena perhitungannya dilakukan pada [*contingency table*](https://www.statisticshowto.com/what-is-a-contingency-table/) atau yang kita kenal juga sebagai cross tabulasi.  \r\n",
    "\r\n",
    "Misalkan, pada contoh di awal, kita memiliki data penumpang, selamat dan tidak, dari berbagai kota asal. \r\n",
    "Apabila kita membuat *contingency table* atau cross tabulasi dari data yang kita miliki, maka kita akan mendapatkan tabel seperti berikut."
   ],
   "metadata": {}
  },
  {
   "cell_type": "code",
   "execution_count": 22,
   "source": [
    "df_ct=pd.crosstab(df['embark_town'],df['alive'])\r\n",
    "df_ct "
   ],
   "outputs": [
    {
     "output_type": "execute_result",
     "data": {
      "text/html": [
       "<div>\n",
       "<style scoped>\n",
       "    .dataframe tbody tr th:only-of-type {\n",
       "        vertical-align: middle;\n",
       "    }\n",
       "\n",
       "    .dataframe tbody tr th {\n",
       "        vertical-align: top;\n",
       "    }\n",
       "\n",
       "    .dataframe thead th {\n",
       "        text-align: right;\n",
       "    }\n",
       "</style>\n",
       "<table border=\"1\" class=\"dataframe\">\n",
       "  <thead>\n",
       "    <tr style=\"text-align: right;\">\n",
       "      <th>alive</th>\n",
       "      <th>no</th>\n",
       "      <th>yes</th>\n",
       "    </tr>\n",
       "    <tr>\n",
       "      <th>embark_town</th>\n",
       "      <th></th>\n",
       "      <th></th>\n",
       "    </tr>\n",
       "  </thead>\n",
       "  <tbody>\n",
       "    <tr>\n",
       "      <th>Cherbourg</th>\n",
       "      <td>75</td>\n",
       "      <td>93</td>\n",
       "    </tr>\n",
       "    <tr>\n",
       "      <th>Queenstown</th>\n",
       "      <td>47</td>\n",
       "      <td>30</td>\n",
       "    </tr>\n",
       "    <tr>\n",
       "      <th>Southampton</th>\n",
       "      <td>427</td>\n",
       "      <td>217</td>\n",
       "    </tr>\n",
       "  </tbody>\n",
       "</table>\n",
       "</div>"
      ],
      "text/plain": [
       "alive         no  yes\n",
       "embark_town          \n",
       "Cherbourg     75   93\n",
       "Queenstown    47   30\n",
       "Southampton  427  217"
      ]
     },
     "metadata": {},
     "execution_count": 22
    }
   ],
   "metadata": {}
  },
  {
   "cell_type": "markdown",
   "source": [
    "Dengan _Chi Square Test of Independence_ kita bisa menjawab pertanyaan, apakah kota asal penumpang memiliki hubungan dengan keselamatan mereka?\r\n",
    "\r\n",
    "Hipotesis null dari uji kita adalah: kota asal penumpang tidak memiliki hubungan dengan keselamatan penumpang, dan hipotesis alternatif yang kita gunakan adalah: kota asal penumpang memiliki hubungan dengan keselamatan penumpang. Tabel cross tabulasi di atas, merupakan nilai observasi dari data kita.  \r\n",
    "\r\n",
    "Sebelum kita bisa mulai menghitung nilai statistik chi square, kita perlu menghitung nilai _expected_ dari data kita. Untuk itu, kita perlu mencari total dari nilai observasi yang kita miliki, baik per baris maupun per kolom."
   ],
   "metadata": {}
  },
  {
   "cell_type": "code",
   "execution_count": 23,
   "source": [
    "df_ct['total row']=df_ct.sum(axis=1)\r\n",
    "df_ct"
   ],
   "outputs": [
    {
     "output_type": "execute_result",
     "data": {
      "text/html": [
       "<div>\n",
       "<style scoped>\n",
       "    .dataframe tbody tr th:only-of-type {\n",
       "        vertical-align: middle;\n",
       "    }\n",
       "\n",
       "    .dataframe tbody tr th {\n",
       "        vertical-align: top;\n",
       "    }\n",
       "\n",
       "    .dataframe thead th {\n",
       "        text-align: right;\n",
       "    }\n",
       "</style>\n",
       "<table border=\"1\" class=\"dataframe\">\n",
       "  <thead>\n",
       "    <tr style=\"text-align: right;\">\n",
       "      <th>alive</th>\n",
       "      <th>no</th>\n",
       "      <th>yes</th>\n",
       "      <th>total row</th>\n",
       "    </tr>\n",
       "    <tr>\n",
       "      <th>embark_town</th>\n",
       "      <th></th>\n",
       "      <th></th>\n",
       "      <th></th>\n",
       "    </tr>\n",
       "  </thead>\n",
       "  <tbody>\n",
       "    <tr>\n",
       "      <th>Cherbourg</th>\n",
       "      <td>75</td>\n",
       "      <td>93</td>\n",
       "      <td>168</td>\n",
       "    </tr>\n",
       "    <tr>\n",
       "      <th>Queenstown</th>\n",
       "      <td>47</td>\n",
       "      <td>30</td>\n",
       "      <td>77</td>\n",
       "    </tr>\n",
       "    <tr>\n",
       "      <th>Southampton</th>\n",
       "      <td>427</td>\n",
       "      <td>217</td>\n",
       "      <td>644</td>\n",
       "    </tr>\n",
       "  </tbody>\n",
       "</table>\n",
       "</div>"
      ],
      "text/plain": [
       "alive         no  yes  total row\n",
       "embark_town                     \n",
       "Cherbourg     75   93        168\n",
       "Queenstown    47   30         77\n",
       "Southampton  427  217        644"
      ]
     },
     "metadata": {},
     "execution_count": 23
    }
   ],
   "metadata": {}
  },
  {
   "cell_type": "code",
   "execution_count": 24,
   "source": [
    "df_ct.loc['total column']=df_ct.sum(axis=0)\r\n",
    "df_ct"
   ],
   "outputs": [
    {
     "output_type": "execute_result",
     "data": {
      "text/html": [
       "<div>\n",
       "<style scoped>\n",
       "    .dataframe tbody tr th:only-of-type {\n",
       "        vertical-align: middle;\n",
       "    }\n",
       "\n",
       "    .dataframe tbody tr th {\n",
       "        vertical-align: top;\n",
       "    }\n",
       "\n",
       "    .dataframe thead th {\n",
       "        text-align: right;\n",
       "    }\n",
       "</style>\n",
       "<table border=\"1\" class=\"dataframe\">\n",
       "  <thead>\n",
       "    <tr style=\"text-align: right;\">\n",
       "      <th>alive</th>\n",
       "      <th>no</th>\n",
       "      <th>yes</th>\n",
       "      <th>total row</th>\n",
       "    </tr>\n",
       "    <tr>\n",
       "      <th>embark_town</th>\n",
       "      <th></th>\n",
       "      <th></th>\n",
       "      <th></th>\n",
       "    </tr>\n",
       "  </thead>\n",
       "  <tbody>\n",
       "    <tr>\n",
       "      <th>Cherbourg</th>\n",
       "      <td>75</td>\n",
       "      <td>93</td>\n",
       "      <td>168</td>\n",
       "    </tr>\n",
       "    <tr>\n",
       "      <th>Queenstown</th>\n",
       "      <td>47</td>\n",
       "      <td>30</td>\n",
       "      <td>77</td>\n",
       "    </tr>\n",
       "    <tr>\n",
       "      <th>Southampton</th>\n",
       "      <td>427</td>\n",
       "      <td>217</td>\n",
       "      <td>644</td>\n",
       "    </tr>\n",
       "    <tr>\n",
       "      <th>total column</th>\n",
       "      <td>549</td>\n",
       "      <td>340</td>\n",
       "      <td>889</td>\n",
       "    </tr>\n",
       "  </tbody>\n",
       "</table>\n",
       "</div>"
      ],
      "text/plain": [
       "alive          no  yes  total row\n",
       "embark_town                      \n",
       "Cherbourg      75   93        168\n",
       "Queenstown     47   30         77\n",
       "Southampton   427  217        644\n",
       "total column  549  340        889"
      ]
     },
     "metadata": {},
     "execution_count": 24
    }
   ],
   "metadata": {}
  },
  {
   "cell_type": "markdown",
   "source": [
    "Untuk mencari *expected value*, kalikan nilai *total row* dengan *total column*, lalu dibagi dengan nilai total keseluruhan. Contoh, *expected value* untuk penumpang asal Cherbourg yang tidak selamat adalah:  \r\n",
    "> `168*549/889= 103.748` \r\n",
    "\r\n",
    "Jika dibuat menjadi kode, akan menjadi sebagai berikut."
   ],
   "metadata": {}
  },
  {
   "cell_type": "code",
   "execution_count": 26,
   "source": [
    "df_ct['total row'][0]*df_ct['no'][-1]/df_ct['total row'][-1]"
   ],
   "outputs": [
    {
     "output_type": "execute_result",
     "data": {
      "text/plain": [
       "103.74803149606299"
      ]
     },
     "metadata": {},
     "execution_count": 26
    }
   ],
   "metadata": {}
  },
  {
   "cell_type": "markdown",
   "source": [
    "Nah, sekarang kita hitung expected value untuk masing-masing kolom (`no` dan `yes`), lalu kita masukkan ke variabel df_exp. Setelahnya, kita bisa drop kolom *total row* dan baris *total column* karena sudah tidak kita gunakan lagi."
   ],
   "metadata": {}
  },
  {
   "cell_type": "code",
   "execution_count": 9,
   "source": [
    "no=[]\r\n",
    "for i in range(len(df_ct)):\r\n",
    "    no.append(df_ct['total row'][i]*df_ct['no'][-1]/df_ct['total row'][-1])"
   ],
   "outputs": [],
   "metadata": {}
  },
  {
   "cell_type": "code",
   "execution_count": 10,
   "source": [
    "yes=[]\r\n",
    "for i in range(len(df_ct)):\r\n",
    "    yes.append(df_ct['total row'][i][-1]*df_ct['yes'][-1]/df_ct['total row'])"
   ],
   "outputs": [],
   "metadata": {}
  },
  {
   "cell_type": "code",
   "execution_count": 11,
   "source": [
    "df_exp=df_ct.copy()"
   ],
   "outputs": [],
   "metadata": {}
  },
  {
   "cell_type": "code",
   "execution_count": 12,
   "source": [
    "df_exp['no']=no\r\n",
    "df_exp['yes']=yes\r\n",
    "\r\n",
    "\r\n",
    "#drop total karena sudah tidak diperlukan\r\n",
    "df_exp=df_exp.drop('total row', axis=1)\r\n",
    "df_exp= df_exp.drop('total column', axis=0)\r\n",
    "df_exp\r\n"
   ],
   "outputs": [
    {
     "output_type": "execute_result",
     "data": {
      "text/html": [
       "<div>\n",
       "<style scoped>\n",
       "    .dataframe tbody tr th:only-of-type {\n",
       "        vertical-align: middle;\n",
       "    }\n",
       "\n",
       "    .dataframe tbody tr th {\n",
       "        vertical-align: top;\n",
       "    }\n",
       "\n",
       "    .dataframe thead th {\n",
       "        text-align: right;\n",
       "    }\n",
       "</style>\n",
       "<table border=\"1\" class=\"dataframe\">\n",
       "  <thead>\n",
       "    <tr style=\"text-align: right;\">\n",
       "      <th>alive</th>\n",
       "      <th>no</th>\n",
       "      <th>yes</th>\n",
       "    </tr>\n",
       "    <tr>\n",
       "      <th>embark_town</th>\n",
       "      <th></th>\n",
       "      <th></th>\n",
       "    </tr>\n",
       "  </thead>\n",
       "  <tbody>\n",
       "    <tr>\n",
       "      <th>Cherbourg</th>\n",
       "      <td>103.748031</td>\n",
       "      <td>64.251969</td>\n",
       "    </tr>\n",
       "    <tr>\n",
       "      <th>Queenstown</th>\n",
       "      <td>47.551181</td>\n",
       "      <td>29.448819</td>\n",
       "    </tr>\n",
       "    <tr>\n",
       "      <th>Southampton</th>\n",
       "      <td>397.700787</td>\n",
       "      <td>246.299213</td>\n",
       "    </tr>\n",
       "  </tbody>\n",
       "</table>\n",
       "</div>"
      ],
      "text/plain": [
       "alive                no         yes\n",
       "embark_town                        \n",
       "Cherbourg    103.748031   64.251969\n",
       "Queenstown    47.551181   29.448819\n",
       "Southampton  397.700787  246.299213"
      ]
     },
     "metadata": {},
     "execution_count": 12
    }
   ],
   "metadata": {}
  },
  {
   "cell_type": "code",
   "execution_count": 13,
   "source": [
    "#drop total karena sudah tidak diperlukan\r\n",
    "df_ct=df_ct.drop('total row', axis=1)\r\n",
    "df_ct= df_ct.drop('total column', axis=0)\r\n",
    "df_ct"
   ],
   "outputs": [
    {
     "output_type": "execute_result",
     "data": {
      "text/html": [
       "<div>\n",
       "<style scoped>\n",
       "    .dataframe tbody tr th:only-of-type {\n",
       "        vertical-align: middle;\n",
       "    }\n",
       "\n",
       "    .dataframe tbody tr th {\n",
       "        vertical-align: top;\n",
       "    }\n",
       "\n",
       "    .dataframe thead th {\n",
       "        text-align: right;\n",
       "    }\n",
       "</style>\n",
       "<table border=\"1\" class=\"dataframe\">\n",
       "  <thead>\n",
       "    <tr style=\"text-align: right;\">\n",
       "      <th>alive</th>\n",
       "      <th>no</th>\n",
       "      <th>yes</th>\n",
       "    </tr>\n",
       "    <tr>\n",
       "      <th>embark_town</th>\n",
       "      <th></th>\n",
       "      <th></th>\n",
       "    </tr>\n",
       "  </thead>\n",
       "  <tbody>\n",
       "    <tr>\n",
       "      <th>Cherbourg</th>\n",
       "      <td>75</td>\n",
       "      <td>93</td>\n",
       "    </tr>\n",
       "    <tr>\n",
       "      <th>Queenstown</th>\n",
       "      <td>47</td>\n",
       "      <td>30</td>\n",
       "    </tr>\n",
       "    <tr>\n",
       "      <th>Southampton</th>\n",
       "      <td>427</td>\n",
       "      <td>217</td>\n",
       "    </tr>\n",
       "  </tbody>\n",
       "</table>\n",
       "</div>"
      ],
      "text/plain": [
       "alive         no  yes\n",
       "embark_town          \n",
       "Cherbourg     75   93\n",
       "Queenstown    47   30\n",
       "Southampton  427  217"
      ]
     },
     "metadata": {},
     "execution_count": 13
    }
   ],
   "metadata": {}
  },
  {
   "cell_type": "markdown",
   "source": [
    "Kita dapatkan dua tabel seperti di atas, yang masih-masing berisi *expected value* dan *observed value*. Setelah mendapatkan kedua nilai ini, kita bisa menghitung nilai statistic chi square dari data kita dengan rumus  \r\n",
    "\r\n",
    "![gambar](https://www.statisticshowto.com/wp-content/uploads/2013/09/chi-square-formula.jpg)  \r\n",
    "\r\n",
    "Jadi, kita bisa cari selisih dari masing-masing *expected value* dan *observed value*, lalu kita pangkat dua, bagi dengan *expected value* dan kita total hasilnya. "
   ],
   "metadata": {}
  },
  {
   "cell_type": "code",
   "execution_count": 14,
   "source": [
    "#nilai chi square statistics\r\n",
    "(((df_ct-df_exp)**2)/df_exp).sum().sum()"
   ],
   "outputs": [
    {
     "output_type": "execute_result",
     "data": {
      "text/plain": [
       "26.489149839237626"
      ]
     },
     "metadata": {},
     "execution_count": 14
    }
   ],
   "metadata": {}
  },
  {
   "cell_type": "markdown",
   "source": [
    "Nilai statistik yang kita dapatkan adalah 26.489. Sekarang, kita cari nilai tabel chi square kita, dengan _degree of freedom_:  \r\n",
    "df= (jumlah baris-1)x(jumlah kolom-1)  \r\n",
    "df=(3-1)x(2-1)=2  \r\n",
    "\r\n",
    "![tabel](Chi-Square-table.jpg)\r\n",
    "\r\n",
    "Nilai tabel yang kita dapatkan, dengan _alpha_ 0.05 dan df 2, adalah 5.991.\r\n",
    "Karena nilai statistik, 26.489, lebih besar dari nilai tabel, 5.991, maka bisa kita **menolak ho**, sehingga bisa disimpulkan bahwa **kota asal penumpang memiliki hubungan dengan keselamatan penumpang**."
   ],
   "metadata": {}
  },
  {
   "cell_type": "markdown",
   "source": [
    "Sekarang, mari kita cocokkan hasil perhitungan kita di atas dengan _function_ di python."
   ],
   "metadata": {}
  },
  {
   "cell_type": "code",
   "execution_count": 15,
   "source": [
    "stats, pval, dof, expected=chi2_contingency(df_ct)\r\n",
    "\r\n",
    "print('nilai statistik=',stats,'\\nnilai p-value=',pval)\r\n",
    "#conclusion\r\n",
    "if pval<=0.05:\r\n",
    "    print('Tolak Ho')\r\n",
    "else:\r\n",
    "    print('Terima Ho')"
   ],
   "outputs": [
    {
     "output_type": "stream",
     "name": "stdout",
     "text": [
      "nilai statistik= 26.48914983923762 \n",
      "nilai p-value= 1.769922284120912e-06\n",
      "Tolak Ho\n"
     ]
    }
   ],
   "metadata": {}
  },
  {
   "cell_type": "markdown",
   "source": [
    "Bisa dilihat, hasil perhitungan kita hampir sama persis dengan output dari _function_ di python, dan kesimpulan yang kita tarik pun sama, yaitu, **tolak ho**, kota asal penumpang memiliki hubungan dengan keselamatan penumpang."
   ],
   "metadata": {}
  }
 ],
 "metadata": {
  "orig_nbformat": 4,
  "language_info": {
   "name": "python",
   "version": "3.8.3",
   "mimetype": "text/x-python",
   "codemirror_mode": {
    "name": "ipython",
    "version": 3
   },
   "pygments_lexer": "ipython3",
   "nbconvert_exporter": "python",
   "file_extension": ".py"
  },
  "kernelspec": {
   "name": "python3",
   "display_name": "Python 3.8.3 64-bit ('base': conda)"
  },
  "interpreter": {
   "hash": "f6cadb433fb4d5e490a52a7886e50fe75cf2fd39fd559aabdd1f0f7248e07363"
  }
 },
 "nbformat": 4,
 "nbformat_minor": 2
}